{
 "cells": [
  {
   "cell_type": "markdown",
   "metadata": {},
   "source": [
    "# Javascript Basics "
   ]
  },
  {
   "cell_type": "markdown",
   "metadata": {},
   "source": [
    "## Setup\n",
    "\n",
    "1. Ensure that Anaconda is installed on your system\n",
    "1. If you have Anaconda3 (Python 3.x) installed, you'll first need to add Python 2.7 environment because the javascript notebooks only support 2.7 as of now.\n",
    "1. run the following commands from an elevated command prompt: <br>    `conda create -n Python27 python=2.7`\n",
    "1. open python2.7 environment using the following command: <br>    `activate Python27`\n",
    "1. after this is done, install the windows build tools (VC2015): <br>    `npm install --global --production windows-build-tools`\n",
    "1. now install ijavascript kernel: <br>    `npm install -g ijavascript`\n",
    "1. run ijsinstall so it can register with jupyter: <br>    `ijsinstall --install=global`\n",
    "1. (Only if you are on Anaconda 3) after we are done with today's tutorial, remember to run: <br>    `deactivate Python27` <br>to switch back to Python 3.x\n"
   ]
  },
  {
   "cell_type": "markdown",
   "metadata": {},
   "source": [
    "## Hoisting and Scope"
   ]
  },
  {
   "cell_type": "code",
   "execution_count": 2,
   "metadata": {},
   "outputs": [
    {
     "name": "stdout",
     "output_type": "stream",
     "text": [
      "bar: does foo not exist?  true\n",
      "bar: what is the value of foo?  undefined\n",
      "bar:  20\n",
      "bar:  100\n",
      "baz: does foo not exist?  true\n",
      "baz: what is the value of foo?  undefined\n",
      "baz:  20\n",
      "baz:  2500\n"
     ]
    }
   ],
   "source": [
    "var foo = 1;\n",
    "var a = 1;\n",
    "var b = 50;\n",
    "var c = 50;\n",
    "function bar() {\n",
    "    // foo is picked up from global scope\n",
    "    console.log(\"bar: does foo not exist? \",(!foo));\n",
    "    console.log(\"bar: what is the value of foo? \",foo);\n",
    "\tif (!foo) {\n",
    "\t\t//var foo = 10;\n",
    "        a = b+c;\n",
    "        foo = 20;\n",
    "\t}\n",
    "\tconsole.log(\"bar: \",foo);\n",
    "    console.log(\"bar: \",a);\n",
    "}\n",
    "function baz() {\n",
    "    // foo is hoisted and is picked up from within baz()\n",
    "    console.log(\"baz: does foo not exist? \",(!foo));\n",
    "    console.log(\"baz: what is the value of foo? \",foo);\n",
    "\tif (!foo) {\n",
    "\t\tvar foo = 10;\n",
    "        a = b*c;\n",
    "        foo = 20;\n",
    "\t}\n",
    "\tconsole.log(\"baz: \",foo);\n",
    "    console.log(\"baz: \",a);\n",
    "}\n",
    "bar();\n",
    "baz();"
   ]
  },
  {
   "cell_type": "markdown",
   "metadata": {},
   "source": [
    "All **var** statements within a function are _hoisted_ to the top of the function"
   ]
  },
  {
   "cell_type": "code",
   "execution_count": null,
   "metadata": {
    "collapsed": true
   },
   "outputs": [],
   "source": [
    "var a = 1;\n",
    "function b() {\n",
    "\ta = 10;\n",
    "    var x = 5;\n",
    "    console.log(\"a from within b: \",a);\n",
    "\treturn;\n",
    "\tfunction a() {var a=100;} //literals will preceed objects in the event of a name clash\n",
    "}\n",
    "b();\n",
    "console.log(\"a from outside b, but used after b: \",a);"
   ]
  },
  {
   "cell_type": "markdown",
   "metadata": {},
   "source": [
    "## Understanding the 'this' variable\n",
    "\n",
    "**this** follows _Dynamic Scoping_\n",
    "\n",
    "### Ways to modify 'this'\n",
    "\n",
    "#### 1. Call a method on an object "
   ]
  },
  {
   "cell_type": "code",
   "execution_count": null,
   "metadata": {
    "collapsed": true
   },
   "outputs": [],
   "source": [
    "// here this will be the object\n",
    "// object.method() "
   ]
  },
  {
   "cell_type": "code",
   "execution_count": null,
   "metadata": {
    "collapsed": true
   },
   "outputs": [],
   "source": [
    "var greetingPrinter = function(){};\n",
    "\n",
    "greetingPrinter.prototype.name = \"Shaurya Agarwal\";\n",
    "greetingPrinter.prototype.greet = function(){\n",
    "    console.log(\"greetingPrinter.prototype.greet:: this.name =  \",this.name);\n",
    "    console.log(\"greetingPrinter.prototype.greet:: name = \",name, \"note that this is different from *this.name*\");\n",
    "    console.log(\"greetingPrinter.prototype.greet:: this = \",JSON.stringify(this));\n",
    "};\n",
    "\n",
    "var name = \"Amit Fegade\";\n",
    "\n",
    "var myGreeting0 = new greetingPrinter();\n",
    "myGreeting0.greet();\n",
    "\n",
    "var myGreeting1 = new greetingPrinter();\n",
    "myGreeting1.name = \"Amit Jha\";\n",
    "myGreeting1.greet();\n",
    "\n"
   ]
  },
  {
   "cell_type": "markdown",
   "metadata": {},
   "source": [
    "#### 2. Pass this with the delegate"
   ]
  },
  {
   "cell_type": "code",
   "execution_count": null,
   "metadata": {
    "collapsed": true
   },
   "outputs": [],
   "source": [
    "// here this in method will refer to myObj\n",
    "// method.call(myObj, arg1, arg2, ...) \n",
    "// ethod.apply(myObj,argArray)\n",
    "//method.bind(myObj,arg1, arg2, ...)\n",
    "\n",
    "var myGreeting3 = {_name:\"Pranav\"};\n",
    "var myGreeting4 = {_name: \"Manish\"};\n",
    "\n",
    "function greetName(grtng){\n",
    "    console.log(grtng,\" \", this._name);\n",
    "};\n",
    "//\n",
    "// when we call greetName function, both grtng and this._name are not defined (or 'undefined' in JS parlance)\n",
    "greetName();\n",
    "//\n",
    "// passing myGreeting3 as the object that the 'this' variable will point to\n",
    "greetName.call(myGreeting3, \"Hello\");\n",
    "//\n",
    "// passing myGreeting3 as the object that the 'this' variable will point to\n",
    "greetName.call(myGreeting4, \"Hello\");\n",
    "//\n",
    "var emp = [{name:\"Manish\", salary:1000},{name:\"Amit\", salary: 20000}];\n",
    "//\n",
    "function formatCurrency(){\n",
    "    var s = this.salary.toString();\n",
    "    console.log(\"s = \",s);\n",
    "    var outputStr = \"\";\n",
    "    for (var i=0; i<s.length;i++){\n",
    "        outputStr += s[i];\n",
    "        if (i%3 == 2){\n",
    "            outputStr += \",\";\n",
    "        }\n",
    "    }\n",
    "    return outputStr;\n",
    "};\n",
    "//\n",
    "for(var j=0;j<emp.length;j++){\n",
    "    //console.log(formatCurrency.call(emp[j]));\n",
    "    var myMethod = formatCurrency.bind(emp[j]);\n",
    "    //console.log(\"in for loop: \", myMethod());\n",
    "}\n",
    "//\n",
    "console.log(\"out of for loop: \", myMethod());"
   ]
  },
  {
   "cell_type": "markdown",
   "metadata": {},
   "source": [
    "#### 3. Use new  (revisit after classes, prototypes and inheritance)"
   ]
  },
  {
   "cell_type": "code",
   "execution_count": null,
   "metadata": {
    "collapsed": true
   },
   "outputs": [],
   "source": [
    "// var o = {name: 'Mini'};\n",
    "// var a = new ClassName(o) //this is set as per the param"
   ]
  },
  {
   "cell_type": "markdown",
   "metadata": {},
   "source": [
    "#### 4. Use bind() (revisit after Higher Order Functions and Currying)\n",
    "bind is like call() and apply() but does not execute the function, instead it returns a new function whose this is bound to the context specified by bind()"
   ]
  },
  {
   "cell_type": "code",
   "execution_count": null,
   "metadata": {
    "collapsed": true
   },
   "outputs": [],
   "source": [
    "var getName = function(){console.log(this.name);}\n",
    "\n",
    "// getName is bound to the object passed {name:'shaurya'}, \n",
    "// so this within shauryaName function will refer to {name: 'shaurya'}\n",
    "var shauryaName = getName.bind({name:'shaurya'}) \n",
    "\n",
    "getName();\n",
    "shauryaName();"
   ]
  },
  {
   "cell_type": "markdown",
   "metadata": {},
   "source": [
    "### Issues with eventHandlers (optional)"
   ]
  },
  {
   "cell_type": "code",
   "execution_count": null,
   "metadata": {
    "collapsed": true
   },
   "outputs": [],
   "source": [
    "var div = {}; //document.createElementByType('div');\n",
    "//\n",
    "div.onclick = function(){\n",
    "    setTimeout(function(){\n",
    "        console.log(\"haha!\", this)\n",
    "    },1000)\n",
    "} //this for setTimeout is 'window' and not 'div' because setTimeout is a function defined in the global scope\n",
    "\n",
    "//to fix this we'll use hoisting and lexical scope\n",
    "div.onclick = function(){\n",
    "    //this here refers to the div, _this will be available to the setTimeout's inner function as a part of its closure\n",
    "    var _this = this;\n",
    "    //we capture this at div level and let inner scope use it\n",
    "    setTimeout(function(){console.log(\"haha!\", _this)},1000); \n",
    "} "
   ]
  },
  {
   "cell_type": "markdown",
   "metadata": {},
   "source": [
    "## A quick tour of functional programming in JavaScript\n",
    "\n",
    "### 1. Pure Functions and Referential Transparency"
   ]
  },
  {
   "cell_type": "code",
   "execution_count": null,
   "metadata": {
    "collapsed": true
   },
   "outputs": [],
   "source": [
    "function sum (a,b){return a+b;} //pure?\n",
    "\n",
    "function sumA (a, b){return previousSum+a+b;} //pure?"
   ]
  },
  {
   "cell_type": "markdown",
   "metadata": {},
   "source": [
    "### 2. Higher Order Functions"
   ]
  },
  {
   "cell_type": "markdown",
   "metadata": {
    "collapsed": true
   },
   "source": [
    "Functions that accpet other functions as argument \n",
    "- examples include the sort function for arrays"
   ]
  },
  {
   "cell_type": "markdown",
   "metadata": {},
   "source": [
    "### 3. Currying"
   ]
  },
  {
   "cell_type": "code",
   "execution_count": null,
   "metadata": {
    "collapsed": true
   },
   "outputs": [],
   "source": [
    "// keep returning a function till you get all the expected arguments\n",
    "\n",
    "// basic approach\n",
    "function isGreater(m,n){ //here the second argument is only added for readibility\n",
    "    console.log('outer scope: m = ',m);\n",
    "    return function(n){\n",
    "        console.log('m = ',m,', n = ',n);\n",
    "        return m<n;\n",
    "    };\n",
    "}\n",
    "\n",
    "// a way to avoid failure in case arguments are unavailable\n",
    "function isGreater2(m,n){ //here the second argument is only added for readibility\n",
    "    console.log('outer scope: m = ',m);\n",
    "    return function(n1){\n",
    "        console.log('m = ',m,', n = ',n, ', n1 = ',n1);\n",
    "        n1 = (n1)? n1:n;\n",
    "        return m<n1;\n",
    "    };\n",
    "}\n",
    "\n",
    "var isGreaterThan10 = isGreater(10);\n",
    "var isGreaterThan21 = isGreater(21);\n",
    "//\n",
    "console.log(\"---single argument---\");\n",
    "console.log(isGreaterThan10(5));\n",
    "console.log(isGreaterThan10(10));\n",
    "console.log(isGreaterThan10(15));\n",
    "console.log(isGreaterThan21(19));\n",
    "console.log(isGreaterThan21(21));\n",
    "console.log(isGreaterThan21(25));\n",
    "//\n",
    "console.log(\"---argument chains---\");\n",
    "console.log(isGreater(10)(5));\n",
    "console.log(isGreater(10)(10));\n",
    "console.log(isGreater(10)(15));\n",
    "console.log(isGreater(21)(19));\n",
    "console.log(isGreater(21)(21));\n",
    "console.log(isGreater(21)(25));\n",
    "//\n",
    "console.log(\"---passing both arguments at start doesn't work---\");\n",
    "console.log(isGreater(10,5));\n",
    "console.log(isGreater(10,10));\n",
    "console.log(isGreater(10,15));\n",
    "console.log(isGreater(21,19));\n",
    "console.log(isGreater(21,21));\n",
    "console.log(isGreater(21,25));\n",
    "//\n",
    "console.log(\"---proof that isGreater returns a function---\");\n",
    "console.log(isGreater(10,5)());\n",
    "console.log(isGreater(10,10)());\n",
    "console.log(isGreater(10,15)());\n",
    "console.log(isGreater(21,19)());\n",
    "console.log(isGreater(21,21)());\n",
    "console.log(isGreater(21,25)());\n",
    "//\n",
    "console.log(\"---but it does work for isGreater2 where passing n1 has no effect---\");\n",
    "console.log(isGreater2(10,5)());\n",
    "console.log(isGreater2(10,10)(11));\n",
    "console.log(isGreater2(10,15)(9));\n",
    "console.log(isGreater2(21,19)());\n",
    "console.log(isGreater2(21,21)(30));\n",
    "console.log(isGreater2(21,25)());"
   ]
  },
  {
   "cell_type": "markdown",
   "metadata": {},
   "source": [
    "### 4. Anonymous functions"
   ]
  },
  {
   "cell_type": "code",
   "execution_count": null,
   "metadata": {
    "collapsed": true
   },
   "outputs": [],
   "source": [
    "// functions with no names\n",
    "\n",
    "// fat arrow notation:\n",
    "var myFunc = (x) => x+2;\n",
    "console.log(myFunc(2));"
   ]
  },
  {
   "cell_type": "markdown",
   "metadata": {},
   "source": [
    "### 5. Filters, Map and Reduce"
   ]
  },
  {
   "cell_type": "code",
   "execution_count": null,
   "metadata": {
    "collapsed": true
   },
   "outputs": [],
   "source": [
    "a = [1,2,3,4,5,6,7,8,9,9,8,7,6,5,4,3,2,1];\n",
    "// map\n",
    "console.log(JSON.stringify(a.map((x)=>x*x)));\n",
    "console.log(JSON.stringify(\n",
    "                            a.map(\n",
    "                                (x)=>x*x)\n",
    "));\n",
    "// reduce\n",
    "console.log(JSON.stringify(a.reduce((accu,cV,cI,arr)=>accu+=cV)));\n",
    "console.log(JSON.stringify(\n",
    "                            a.reduce(\n",
    "                                (accu,cV,cI,arr)=>accu+=cV)\n",
    "));\n",
    "\n",
    "// filter\n",
    "console.log(JSON.stringify(a.filter((x)=>(x%2===0))));\n",
    "console.log(JSON.stringify(\n",
    "                            a.filter(\n",
    "                                (x)=>(x%2===0))\n",
    "));"
   ]
  },
  {
   "cell_type": "markdown",
   "metadata": {},
   "source": [
    "### 6. Self executing functions including self executing anonymous functions"
   ]
  },
  {
   "cell_type": "code",
   "execution_count": null,
   "metadata": {
    "collapsed": true
   },
   "outputs": [],
   "source": [
    "var a = function (){console.log(1)}();"
   ]
  },
  {
   "cell_type": "markdown",
   "metadata": {},
   "source": [
    "## Mixins\n",
    "\n",
    "### 1. Quick refresher on prototypes and inheritance"
   ]
  },
  {
   "cell_type": "code",
   "execution_count": null,
   "metadata": {
    "collapsed": true
   },
   "outputs": [],
   "source": [
    "// prototype based inheritance\n",
    "var Circle = function() {}; //Circle is an empty function object, you can do new Circle() and nothing would happen.\n",
    "Circle.prototype = {\n",
    "  area: function() {\n",
    "    return Math.PI * this.radius * this.radius; // radius! think about this \n",
    "  },\n",
    "  grow: function() {\n",
    "    this.radius++; //whoa!!! remember the this discussion? let's look at how we can inject radius here\n",
    "  },\n",
    "  shrink: function() {\n",
    "    this.radius--; //see comment for grow()\n",
    "  }\n",
    "};\n",
    "\n",
    "//using object literals\n",
    "var CircleLiteral = {\n",
    "  area: function() {\n",
    "    return Math.PI * this.radius * this.radius; // radius! think about this \n",
    "  },\n",
    "  grow: function() {\n",
    "    this.radius++; // radius! think about this \n",
    "  },\n",
    "  shrink: function() {\n",
    "    this.radius--; // radius! think about this \n",
    "  }\n",
    "};\n",
    "\n",
    "//a third approach is discussed in the functional programming bit later..."
   ]
  },
  {
   "cell_type": "markdown",
   "metadata": {},
   "source": [
    "### 2. mixins"
   ]
  },
  {
   "cell_type": "code",
   "execution_count": null,
   "metadata": {
    "collapsed": true
   },
   "outputs": [],
   "source": [
    "// Approach 1: using an extend method\n",
    "function extend(destination, source) {\n",
    "  for (var k in source) {\n",
    "    // if source has a valid property \n",
    "    // add it to the destination\n",
    "    if (source.hasOwnProperty(k)) {\n",
    "      destination[k] = source[k];\n",
    "    }\n",
    "  }\n",
    "  return destination; \n",
    "}\n",
    "\n",
    "// Circle with radius\n",
    "var CircleWithRadius = function(radius){\n",
    "    this.radius = radius;\n",
    "}\n",
    "\n",
    "// to reuse methods from the Circle class:\n",
    "extend(CircleWithRadius, Circle);"
   ]
  },
  {
   "cell_type": "code",
   "execution_count": null,
   "metadata": {
    "collapsed": true
   },
   "outputs": [],
   "source": [
    "// Approach 2: use functoinal programming approach (remember we could pass this via delegates?)\n",
    "var Circleish = function() {\n",
    "  this.area = function() {\n",
    "    return Math.PI * this.radius * this.radius;\n",
    "  };\n",
    "  this.grow = function() {\n",
    "    this.radius++;\n",
    "  };\n",
    "  this.shrink = function() {\n",
    "    this.radius--;\n",
    "  };\n",
    "  return this;\n",
    "};\n",
    " \n",
    "var Circle = function(radius) {\n",
    "    this.radius = radius;\n",
    "};\n",
    "\n",
    "Circleish.call(Circle.prototype); //this means that 'this' inside circleish class will point to Circle.\n",
    "\n",
    "var c = new Circle(1);\n",
    "c.area();"
   ]
  },
  {
   "cell_type": "markdown",
   "metadata": {},
   "source": [
    "## Modules in Javascript\n",
    "It should be now trivial to see that modules are mixed in together at runtime.\n",
    "\n",
    "Tools like requireJS, webpack etc. then help one load the modules when needed and also help in compiling JS from multiple files into one (which can be minified and sent to the front end application)\n",
    "\n",
    "There are two very easy ways of encapsulating functionality into a module:\n",
    "1. **Common.js** - _server first approach_, all modules are loaded in a synchronized manner, in order of decreasing dependency. Used in Node.js modules (though node modules have some more features as compared to common js specification)\n",
    "2. **Asynchronous Module Definition** - _Browser first approach_, modules are loaded asynchronously, in a non-blocking manner. Used in Require JS\n",
    "\n",
    "A third approach, **Universal Module Definition** takes an inclusive approach (though it's slightly more involved) enabling **_isomorphic_** javascript - modules that can work, both on browser as well as server"
   ]
  },
  {
   "cell_type": "markdown",
   "metadata": {},
   "source": [
    "# ES5/ES6 Object orientation features in JS"
   ]
  },
  {
   "cell_type": "code",
   "execution_count": null,
   "metadata": {
    "collapsed": true
   },
   "outputs": [],
   "source": [
    "// Danger!\n",
    "\n",
    "// let\n",
    "// restricts to block scope instead of lexical\n",
    "\n",
    "function sayHi(name){\n",
    "    console.log (\"Hi!\");\n",
    "    if (name === undefined){\n",
    "        let __name = \"Shaurya\";\n",
    "        console.log (\"__name = \", __name);\n",
    "    }\n",
    "    console.log (\"name = \", name);\n",
    "    //console.log (\"name from outside the if block - __name = \", __name);\n",
    "}\n",
    "\n",
    "sayHi();\n",
    "sayHi(\"Bro\");\n",
    "\n",
    "// const\n",
    "// cannot modify directly, but for objects and arrays can modify contents\n",
    "\n",
    "//const MY_CONST_NUM = 7;\n",
    "console.log(\"MY_CONST_NUM  = \", MY_CONST_NUM);\n",
    "//ERROR\n",
    "//MY_CONST_NUM = MY_CONST_NUM+1;\n",
    "\n",
    "const My_Const_Obj = {name:\"shaurya\"};\n",
    "console.log(JSON.stringify(My_Const_Obj));\n",
    "\n",
    "\n",
    "// Object.create()\n",
    "// create an object based on a prototype\n",
    "\n",
    "// Object.assign()\n",
    "// assign properties to an object - specifically:\n",
    "// copy all enumerable properties from source objects into one target object and return the object\n"
   ]
  },
  {
   "cell_type": "markdown",
   "metadata": {
    "collapsed": true
   },
   "source": [
    "# SOLID in Javascript\n",
    "\n",
    "Primary Reference: https://medium.com/@cramirez92/s-o-l-i-d-the-first-5-priciples-of-object-oriented-design-with-javascript-790f6ac9b9fa"
   ]
  },
  {
   "cell_type": "markdown",
   "metadata": {},
   "source": [
    "## Single responsibility principle\n",
    "\n",
    "A class should have one and only one reason to change, meaning that a class should only have one job."
   ]
  },
  {
   "cell_type": "markdown",
   "metadata": {},
   "source": [
    "## Open-closed Principle\n",
    "Objects or entities should be **open for extension**, but **closed for modification**.\n",
    "\n",
    "**Open for extension** means that we should be able to add new features or components to the application without breaking existing code.\n",
    "**Closed for modification** means that we should not introduce breaking changes to existing functionality, because that would force you to refactor a lot of existing code"
   ]
  },
  {
   "cell_type": "markdown",
   "metadata": {},
   "source": [
    "## Liskov substitution principle\n",
    "\n",
    "Let q(x) be a property provable about objects of x of type T. \n",
    "\n",
    "Then q(y) should be provable for objects y of type S where S is a subtype of T."
   ]
  },
  {
   "cell_type": "markdown",
   "metadata": {},
   "source": [
    "## Interface segregation principle\n",
    "\n",
    "A client should never be forced to implement an interface that it doesn’t use or clients shouldn’t be forced to depend on methods they do not use."
   ]
  },
  {
   "cell_type": "markdown",
   "metadata": {},
   "source": [
    "## Dependency inversion principle\n",
    "\n",
    "Entities must depend on abstractions not on concretions. It states that the high level module must not depend on the low level module, but they should depend on abstractions."
   ]
  },
  {
   "cell_type": "markdown",
   "metadata": {},
   "source": []
  },
  {
   "cell_type": "markdown",
   "metadata": {},
   "source": []
  }
 ],
 "metadata": {
  "anaconda-cloud": {},
  "celltoolbar": "Raw Cell Format",
  "kernelspec": {
   "display_name": "Javascript (Node.js)",
   "language": "javascript",
   "name": "javascript"
  },
  "language_info": {
   "file_extension": ".js",
   "mimetype": "application/javascript",
   "name": "javascript",
   "version": "6.11.2"
  }
 },
 "nbformat": 4,
 "nbformat_minor": 1
}
