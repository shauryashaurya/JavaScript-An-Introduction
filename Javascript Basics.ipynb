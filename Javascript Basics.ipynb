{
 "cells": [
  {
   "cell_type": "markdown",
   "metadata": {
    "slideshow": {
     "slide_type": "slide"
    }
   },
   "source": [
    "# **JavaScript Basics** "
   ]
  },
  {
   "cell_type": "markdown",
   "metadata": {
    "slideshow": {
     "slide_type": "slide"
    }
   },
   "source": [
    "# Setup - 1\n",
    "\n",
    "1. Ensure that Anaconda is installed on your system\n",
    "1. If you have Anaconda3 (Python 3.x) installed, you'll first need to add Python 2.7 environment because the javascript notebooks only support 2.7 as of now.\n",
    "1. run the following commands from an elevated command prompt: <br>    `conda create -n Python27 python=2.7`\n",
    "1. open python2.7 environment using the following command: <br>    `activate Python27`"
   ]
  },
  {
   "cell_type": "markdown",
   "metadata": {
    "slideshow": {
     "slide_type": "slide"
    }
   },
   "source": [
    "# Setup - 2\n",
    "\n",
    "1. after this is done, install the windows build tools (VC2015): <br>    `npm install --global --production windows-build-tools`\n",
    "1. now install ijavascript kernel: <br>    `npm install -g ijavascript`\n",
    "1. run ijsinstall so it can register with jupyter: <br>    `ijsinstall --install=global`\n",
    "1. (Only if you are on Anaconda 3) after we are done with today's tutorial, remember to run: `deactivate Python27` to switch back to Python 3.x"
   ]
  },
  {
   "cell_type": "markdown",
   "metadata": {
    "slideshow": {
     "slide_type": "slide"
    }
   },
   "source": [
    "# Setup - 3\n",
    "### To Run Code\n",
    "\n",
    "1. Run:    `jupyter notebook`     from the command line...and type code as you go...\n",
    "<br>*or*\n",
    "1. Ensure that location of   `node.exe`   is in your environment path\n",
    "1. Type your code in a text file (use Notepad++ or Visual Studio Code) and save the text file with a name (for example `myfilename.js`)\n",
    "1. Use   `nodejs`   to run the file by typing: <br> `node myfilename.js`"
   ]
  },
  {
   "cell_type": "markdown",
   "metadata": {
    "slideshow": {
     "slide_type": "slide"
    }
   },
   "source": [
    "# Why?\n",
    "* Let's get the why out of the way. Why learn JS? Because you **need** to.\n",
    "    <BR>**nuff said**\n",
    "* We are going to have to build complex user experiences.\n",
    "* We know - by rote - how to do things in Angular/React/Jquery/Others.\n",
    "* But feel anxious when solving bugs.\n",
    "* Knowing the *basics* of the JavaScript Language really really helps."
   ]
  },
  {
   "cell_type": "markdown",
   "metadata": {
    "slideshow": {
     "slide_type": "slide"
    }
   },
   "source": [
    "# Outline\n",
    "\n",
    "1. Scope\n",
    "1. Closures\n",
    "1. Lambdas - Anon funs\n",
    "1. Fat Arrows (the only ES6 thing we'll bother about, for now)\n",
    "1. Map, Reduce and Filter\n",
    "1. Prototypes\n",
    "1. Building Objects in JS\n",
    "1. Much Ado about 'This'\n",
    "1. Mixins "
   ]
  },
  {
   "cell_type": "markdown",
   "metadata": {
    "slideshow": {
     "slide_type": "slide"
    }
   },
   "source": [
    "# Scope"
   ]
  },
  {
   "cell_type": "markdown",
   "metadata": {
    "slideshow": {
     "slide_type": "slide"
    }
   },
   "source": [
    "### ...and hoisting"
   ]
  },
  {
   "cell_type": "code",
   "execution_count": 153,
   "metadata": {
    "collapsed": true,
    "slideshow": {
     "slide_type": "slide"
    }
   },
   "outputs": [],
   "source": [
    "// what is the output of the following function???\n",
    "var boom = 10;\n",
    "function shakalaka(){\n",
    "    \n",
    "    if (!boom){\n",
    "        var boom = \"shakalaka!!!\";\n",
    "    }\n",
    "    return boom\n",
    "}"
   ]
  },
  {
   "cell_type": "code",
   "execution_count": 154,
   "metadata": {
    "slideshow": {
     "slide_type": "slide"
    }
   },
   "outputs": [
    {
     "name": "stdout",
     "output_type": "stream",
     "text": [
      "boom-shakalaka!!!\n"
     ]
    }
   ],
   "source": [
    "// what is the output of the following function???\n",
    "var boom = 10;\n",
    "function shakalaka(){\n",
    "    \n",
    "    if (!boom){\n",
    "        var boom = \"shakalaka!!!\";\n",
    "    }\n",
    "    return boom\n",
    "}\n",
    "\n",
    "console.log(\"boom-\"+ shakalaka());"
   ]
  },
  {
   "cell_type": "code",
   "execution_count": 155,
   "metadata": {
    "slideshow": {
     "slide_type": "slide"
    }
   },
   "outputs": [
    {
     "name": "stdout",
     "output_type": "stream",
     "text": [
      "does boom exist?  false \n",
      "\t, If this is \"false\" then we'll go inside the if\n",
      "what is the value of boom?  undefined\n",
      "boom-shakalaka-lakashaka\n"
     ]
    }
   ],
   "source": [
    "var boom = 10;\n",
    "function shakalaka() {\n",
    "    // boom is picked up from global scope\n",
    "    console.log(\"does boom exist? \",!(!boom), \"\\n\\t, If this is \\\"false\\\" then we'll go inside the if\");\n",
    "    console.log(\"what is the value of boom? \",boom);\n",
    "\tif (!boom) {\n",
    "\t\tvar boom = \"shakalaka-lakashaka\";\n",
    "\t}\n",
    "\tconsole.log(\"boom-\"+boom);\n",
    "}\n",
    "\n",
    "shakalaka();"
   ]
  },
  {
   "cell_type": "code",
   "execution_count": 156,
   "metadata": {
    "slideshow": {
     "slide_type": "slide"
    }
   },
   "outputs": [
    {
     "name": "stdout",
     "output_type": "stream",
     "text": [
      "baz: does foo not exist?  true\n",
      "baz: what is the value of foo?  undefined\n",
      "baz:  20\n",
      "baz:  2500\n"
     ]
    }
   ],
   "source": [
    "var foo = 1;\n",
    "var a = 1;\n",
    "var b = 50;\n",
    "var c = 50;\n",
    "function baz() {\n",
    "    // foo is hoisted and is picked up from within baz()\n",
    "    console.log(\"baz: does foo not exist? \",(!foo));\n",
    "    console.log(\"baz: what is the value of foo? \",foo);\n",
    "\tif (!foo) {\n",
    "\t\tvar foo = 10;\n",
    "        a = b*c;\n",
    "        foo = 20;\n",
    "\t}\n",
    "\tconsole.log(\"baz: \",foo);\n",
    "    console.log(\"baz: \",a);\n",
    "}\n",
    "baz();"
   ]
  },
  {
   "cell_type": "markdown",
   "metadata": {
    "slideshow": {
     "slide_type": "slide"
    }
   },
   "source": [
    "All **var** statements and **function** declarations within a function are _hoisted_ to the top of the function"
   ]
  },
  {
   "cell_type": "code",
   "execution_count": 157,
   "metadata": {
    "slideshow": {
     "slide_type": "slide"
    }
   },
   "outputs": [
    {
     "name": "stdout",
     "output_type": "stream",
     "text": [
      "a from within b:  10\n",
      "a from outside b, but used after b:  1\n"
     ]
    }
   ],
   "source": [
    "var a = 1;\n",
    "function b() {\n",
    "\ta = 10;\n",
    "    var x = 5;\n",
    "    console.log(\"a from within b: \",a);\n",
    "\treturn;\n",
    "\tfunction a() {var a=100;} //literals will preceed objects in the event of a name clash\n",
    "}\n",
    "b();\n",
    "console.log(\"a from outside b, but used after b: \",a);"
   ]
  },
  {
   "cell_type": "markdown",
   "metadata": {
    "slideshow": {
     "slide_type": "slide"
    }
   },
   "source": [
    "JS hoists because the interpreter does two passes - first declaring all variables then evaluating all code. Google it. :)"
   ]
  },
  {
   "cell_type": "markdown",
   "metadata": {
    "slideshow": {
     "slide_type": "slide"
    }
   },
   "source": [
    "# Closures\n",
    "\n",
    "Just a fancy word.\n",
    "Have you heard it?\n",
    "Know what it means?"
   ]
  },
  {
   "cell_type": "markdown",
   "metadata": {
    "slideshow": {
     "slide_type": "slide"
    }
   },
   "source": [
    "$\\color{purple} {\\bf Closure}  \\Rightarrow\\left[\\bf WhoAmI?, WhatDoINeedToDo?, WhoCalledMe? \\right]$"
   ]
  },
  {
   "cell_type": "markdown",
   "metadata": {
    "slideshow": {
     "slide_type": "slide"
    }
   },
   "source": [
    "...and it also means that an inner function will have access to the variables of the...outer function"
   ]
  },
  {
   "cell_type": "code",
   "execution_count": 158,
   "metadata": {},
   "outputs": [
    {
     "data": {
      "text/plain": [
       "'chitty chitty bang bang!'"
      ]
     },
     "execution_count": 158,
     "metadata": {},
     "output_type": "execute_result"
    }
   ],
   "source": [
    "function outerOne(){\n",
    "    var chitty = \"chitty\";\n",
    "    function innerOne(){\n",
    "        var bang = \"bang\";\n",
    "        //wut!!! we've got access to the variables in outerOne\n",
    "        return [chitty, chitty, bang, bang];\n",
    "    }\n",
    "    return innerOne().join(\" \")+\"!\";\n",
    "}\n",
    "//\n",
    "outerOne();"
   ]
  },
  {
   "cell_type": "markdown",
   "metadata": {
    "slideshow": {
     "slide_type": "slide"
    }
   },
   "source": [
    "...but over all just remember..."
   ]
  },
  {
   "cell_type": "markdown",
   "metadata": {
    "slideshow": {
     "slide_type": "slide"
    }
   },
   "source": [
    "$\\color{purple} {\\bf Closure}  \\Rightarrow\\left[\\bf WhoAmI?, WhatDoINeedToDo?, WhoCalledMe? \\right]$\n",
    "\n",
    "<br> this is super important...\n",
    "<br> *super*\n",
    "<br> **important**"
   ]
  },
  {
   "cell_type": "markdown",
   "metadata": {
    "slideshow": {
     "slide_type": "slide"
    }
   },
   "source": [
    "...it's not a 'math accurate' definition, but it gives you a very good *intuition* about the code."
   ]
  },
  {
   "cell_type": "markdown",
   "metadata": {
    "slideshow": {
     "slide_type": "slide"
    }
   },
   "source": [
    "# Lambdas\n",
    "\n",
    "Just a fancy word.\n",
    "Have you heard it?\n",
    "Know what it means?"
   ]
  },
  {
   "cell_type": "markdown",
   "metadata": {
    "slideshow": {
     "slide_type": "slide"
    }
   },
   "source": [
    "$\\color{purple} {\\bf Lambda}  \\Rightarrow\\left[\\bf Just An Anonymous Function With No Name \\right]$"
   ]
  },
  {
   "cell_type": "code",
   "execution_count": 159,
   "metadata": {
    "slideshow": {
     "slide_type": "slide"
    }
   },
   "outputs": [
    {
     "name": "stdout",
     "output_type": "stream",
     "text": [
      "AmAFunctionWitNoNameBaby - ...and I rock like no one's business!\n"
     ]
    }
   ],
   "source": [
    "// this is an anonymous function...totally legal in JS\n",
    "/*\n",
    "function(){\n",
    "    return \"no name\";\n",
    "}\n",
    "*/\n",
    "// here we store an anonymous function in a var\n",
    "var AmAFunctionWitNoNameBaby = function(){\n",
    "    return \"...and I rock like no one's business!\";\n",
    "}\n",
    "// use () after the var name to call the anon fun\n",
    "console.log(\"AmAFunctionWitNoNameBaby - \"+AmAFunctionWitNoNameBaby());"
   ]
  },
  {
   "cell_type": "code",
   "execution_count": 160,
   "metadata": {
    "slideshow": {
     "slide_type": "slide"
    }
   },
   "outputs": [
    {
     "name": "stdout",
     "output_type": "stream",
     "text": [
      "AmAFunctionWitNoNameBaby - ...and I rock like no one's business!\n"
     ]
    }
   ],
   "source": [
    "// here we store an anonymous function in a var inside another anonymous function\n",
    "// because we can...\n",
    "var outerAnon = function(){\n",
    "    //...check it!!!\n",
    "    var AmAFunctionWitNoNameBaby = function(){\n",
    "        return \"...and I rock like no one's business!\";\n",
    "    }   \n",
    "    return AmAFunctionWitNoNameBaby;\n",
    "}\n",
    "// use () after the var name to call the anon fun\n",
    "console.log(\"AmAFunctionWitNoNameBaby - \"+outerAnon()());"
   ]
  },
  {
   "cell_type": "code",
   "execution_count": 161,
   "metadata": {
    "slideshow": {
     "slide_type": "slide"
    }
   },
   "outputs": [
    {
     "name": "stdout",
     "output_type": "stream",
     "text": [
      "4\n"
     ]
    }
   ],
   "source": [
    "// functions with no names\n",
    "\n",
    "// fat arrow notation:\n",
    "var myFunc = (x) => x+2;\n",
    "console.log(myFunc(2));"
   ]
  },
  {
   "cell_type": "markdown",
   "metadata": {
    "slideshow": {
     "slide_type": "slide"
    }
   },
   "source": [
    "# ...and while we are on the topic of Lambdas\n",
    "## here are a few common ones...\n",
    "\n",
    "### *Map and Reduce and Filter*"
   ]
  },
  {
   "cell_type": "markdown",
   "metadata": {
    "slideshow": {
     "slide_type": "slide"
    }
   },
   "source": [
    "## M>A>P"
   ]
  },
  {
   "cell_type": "code",
   "execution_count": 162,
   "metadata": {
    "slideshow": {
     "slide_type": "slide"
    }
   },
   "outputs": [
    {
     "name": "stdout",
     "output_type": "stream",
     "text": [
      "[1,4,9,16,25,36,49,64,81,81,64,49,36,25,16,9,4,1]\n",
      "[1,4,9,16,25,36,49,64,81,81,64,49,36,25,16,9,4,1]\n"
     ]
    }
   ],
   "source": [
    "a = [1,2,3,4,5,6,7,8,9,9,8,7,6,5,4,3,2,1];\n",
    "// map\n",
    "// square the numbers in the array\n",
    "console.log(JSON.stringify(a.map((x)=>x*x)));\n",
    "// support for multiline-fat-arrows\n",
    "console.log(JSON.stringify(\n",
    "                            a.map(\n",
    "                                (x)=>x*x)\n",
    "));"
   ]
  },
  {
   "cell_type": "markdown",
   "metadata": {
    "slideshow": {
     "slide_type": "slide"
    }
   },
   "source": [
    "## R+E+D+U+C+E"
   ]
  },
  {
   "cell_type": "code",
   "execution_count": 163,
   "metadata": {
    "slideshow": {
     "slide_type": "slide"
    }
   },
   "outputs": [
    {
     "name": "stdout",
     "output_type": "stream",
     "text": [
      "90\n",
      "90\n"
     ]
    }
   ],
   "source": [
    "a = [1,2,3,4,5,6,7,8,9,9,8,7,6,5,4,3,2,1];\n",
    "// reduce\n",
    "// sum the array\n",
    "console.log(JSON.stringify(a.reduce((accu,cV,cI,arr)=>accu+=cV)));\n",
    "console.log(JSON.stringify(\n",
    "                            a.reduce(\n",
    "                                (accu,cV,cI,arr)=>accu+=cV)\n",
    "));"
   ]
  },
  {
   "cell_type": "markdown",
   "metadata": {
    "slideshow": {
     "slide_type": "slide"
    }
   },
   "source": [
    "## F/i/L/T/E/R"
   ]
  },
  {
   "cell_type": "code",
   "execution_count": 164,
   "metadata": {
    "slideshow": {
     "slide_type": "slide"
    }
   },
   "outputs": [
    {
     "name": "stdout",
     "output_type": "stream",
     "text": [
      "[2,4,6,8,8,6,4,2]\n",
      "[2,4,6,8,8,6,4,2]\n"
     ]
    }
   ],
   "source": [
    "a = [1,2,3,4,5,6,7,8,9,9,8,7,6,5,4,3,2,1];\n",
    "// filter\n",
    "// extract only even numbers\n",
    "console.log(JSON.stringify(a.filter((x)=>(x%2===0))));\n",
    "console.log(JSON.stringify(\n",
    "                            a.filter(\n",
    "                                (x)=>(x%2===0))\n",
    "));"
   ]
  },
  {
   "cell_type": "markdown",
   "metadata": {
    "slideshow": {
     "slide_type": "slide"
    }
   },
   "source": [
    "\n",
    "# Prototypes"
   ]
  },
  {
   "cell_type": "markdown",
   "metadata": {
    "slideshow": {
     "slide_type": "slide"
    }
   },
   "source": [
    "...from W3Schools\n",
    "\n",
    "## JavaScript Prototypes\n",
    "\n",
    "All JavaScript objects **inherit** the properties and methods from their **prototype**.\n",
    "Objects created using {}, or with `new Object()`, inherit from a prototype called `Object.prototype`.\n",
    "Objects created with `new Date()` inherit the `Date.prototype`.\n",
    "\n",
    "**The `Object.prototype` is on the top of the prototype chain.**\n",
    "\n",
    "*All JavaScript objects (Date, Array, RegExp, Function, ....) inherit from the `Object.prototype`.*"
   ]
  },
  {
   "cell_type": "markdown",
   "metadata": {
    "slideshow": {
     "slide_type": "slide"
    }
   },
   "source": [
    "#### IRL there's three things you need to bother about\n",
    "* `CONSTRUCTOR` Objects\n",
    "* `PROTOTYPE` Property\n",
    "* `__PROTO__` function (THAT'S TWO UNDERSCORES ON EITHER SIDE)"
   ]
  },
  {
   "cell_type": "code",
   "execution_count": 23,
   "metadata": {
    "slideshow": {
     "slide_type": "slide"
    }
   },
   "outputs": [
    {
     "name": "stdout",
     "output_type": "stream",
     "text": [
      "This is the amazing BANANAMAN! With the cape and the banana, I travel through time.\n"
     ]
    }
   ],
   "source": [
    "//this is called 'the constructor function'\n",
    "function SuperHero(d, s, p, n){\n",
    "    //use this. and this. and this. and so on for all the members\n",
    "    this.dress = d;\n",
    "    this.symbol = s;\n",
    "    this.power = p;\n",
    "    //not like java, keep going...we'll talk about 'this' soon...\n",
    "    this.name = n;\n",
    "    this.declaration = function(){ \n",
    "        return \"This is the amazing \"+this.name+\"! With the \"+this.dress+\" and the \"+this.symbol+\", I \"+this.power+\".\";\n",
    "    }\n",
    "}\n",
    "var nanaman = new SuperHero (\"cape\", \"banana\", \"travel through time\", \"BANANAMAN\");\n",
    "console.log(nanaman.declaration());"
   ]
  },
  {
   "cell_type": "code",
   "execution_count": 35,
   "metadata": {
    "slideshow": {
     "slide_type": "slide"
    }
   },
   "outputs": [
    {
     "name": "stdout",
     "output_type": "stream",
     "text": [
      "before: SuperHero.prototype SuperHero { declare2: [Function] }\n",
      "before: SuperHero.__proto__ function () {}\n",
      "after: SuperHero.prototype SuperHero { declare2: [Function] }\n",
      "after: SuperHero.__proto__ function () {}\n",
      "\n",
      " This is the amazing BANANAMAN! With the cape and the banana, I travel through time.\n",
      "...and BTW I also wear a purple mask! Check IT! Yeah! \n",
      "\n",
      "nanaman.prototype =  undefined\n",
      "'nanaman.__proto__ = '\n"
     ]
    }
   ],
   "source": [
    "\n",
    "//constructor objects have a .prototype property, that creates the __proto__ function\n",
    "console.log(\"before: SuperHero.prototype\", SuperHero.prototype); \n",
    "console.log(\"before: SuperHero.__proto__\", SuperHero.__proto__);\n",
    "//now adding to SuperHero's prototype\n",
    "SuperHero.prototype.declare2 = function(){return \"...and BTW I also wear a purple mask! Check IT! Yeah!\";}\n",
    "//notice the difference:\n",
    "console.log(\"after: SuperHero.prototype\", SuperHero.prototype); \n",
    "console.log(\"after: SuperHero.__proto__\", SuperHero.__proto__);\n",
    "\n",
    "var nanaman = new SuperHero (\"cape\", \"banana\", \"travel through time\", \"BANANAMAN\");\n",
    "console.log(\"\\n\",nanaman.declaration()); console.log(nanaman.declare2(),\"\\n\");\n",
    "\n",
    "//constructed objects don't have a .prototype, but do have a __proto__ because SuperHero's prototype was used to create \n",
    "//nanaman's __proto__\n",
    "console.log(\"nanaman.prototype = \", nanaman.prototype); console.dir(\"nanaman.__proto__ = \", nanaman.__proto__);"
   ]
  },
  {
   "cell_type": "markdown",
   "metadata": {
    "slideshow": {
     "slide_type": "slide"
    }
   },
   "source": [
    "# DON'TGETCONFUSED™\n",
    "\n",
    "## * The `prototype` is a property on a constructor function that sets what will become the `__proto__` property on the constructed object.\n",
    "### *hackernoon*\n",
    "\n",
    "Read up, there's lotsa 'tastic info: \n",
    "* https://hackernoon.com/understand-nodejs-javascript-object-inheritance-proto-prototype-class-9bd951700b29"
   ]
  },
  {
   "cell_type": "markdown",
   "metadata": {
    "slideshow": {
     "slide_type": "slide"
    }
   },
   "source": [
    "# DON'TGETCONFUSED™\n",
    "\n",
    "## * `__proto__` is the actual object that is used in the lookup chain to resolve methods, etc.  `prototype` is the object that is used to build `__proto__` when you create an object with `new`\n",
    "### *SO*\n",
    "\n",
    "Read up, there's lotsa 'tastic info: \n",
    "* https://stackoverflow.com/questions/9959727/proto-vs-prototype-in-javascript"
   ]
  },
  {
   "cell_type": "markdown",
   "metadata": {
    "slideshow": {
     "slide_type": "slide"
    }
   },
   "source": [
    "## let's 'shop this on an empty object\n",
    "\n",
    "* open a new tab in your browser, open dev tools and type:\n",
    "\n",
    "`var o = {};` hit return, then `o` and hit return. The `o` object tree will be rendered.\n",
    "\n",
    "* it's a constructed object, so no prototype, only `__proto__`\n",
    "* but the `constructor` of `__proto__` has a `prototype`\n",
    "* and on and on and on....\n",
    "\n",
    "### what's happening is that JS is creating new objects for you on demand and JIT\n"
   ]
  },
  {
   "cell_type": "markdown",
   "metadata": {
    "slideshow": {
     "slide_type": "slide"
    }
   },
   "source": [
    "# Objects and *classes* in JS"
   ]
  },
  {
   "cell_type": "markdown",
   "metadata": {
    "slideshow": {
     "slide_type": "slide"
    }
   },
   "source": [
    "## ...and Mixins too\n",
    "\n",
    "*I lied... see we'll look at 'this' in the end.*\n",
    "*just stick with me okay?*"
   ]
  },
  {
   "cell_type": "markdown",
   "metadata": {
    "slideshow": {
     "slide_type": "slide"
    }
   },
   "source": [
    "*okay?*"
   ]
  },
  {
   "cell_type": "code",
   "execution_count": 36,
   "metadata": {
    "collapsed": true,
    "slideshow": {
     "slide_type": "slide"
    }
   },
   "outputs": [],
   "source": [
    "//defining a class using object literals - this one should be straight forward\n",
    "var CircleLiteral = {\n",
    "  area: function() {\n",
    "    return Math.PI * this.radius * this.radius; // radius! think about this \n",
    "  },\n",
    "  grow: function() {\n",
    "    this.radius++; // radius! think about this \n",
    "  },\n",
    "  shrink: function() {\n",
    "    this.radius--; // radius! think about this \n",
    "  }\n",
    "};"
   ]
  },
  {
   "cell_type": "code",
   "execution_count": 37,
   "metadata": {
    "slideshow": {
     "slide_type": "slide"
    }
   },
   "outputs": [
    {
     "data": {
      "text/plain": [
       "{ area: [Function: area],\n",
       "  grow: [Function: grow],\n",
       "  shrink: [Function: shrink] }"
      ]
     },
     "execution_count": 37,
     "metadata": {},
     "output_type": "execute_result"
    }
   ],
   "source": [
    "// prototype based inheritance\n",
    "var Circle = function() {}; //Circle is an empty function object, you can do new Circle() and nothing would happen.\n",
    "Circle.prototype = {\n",
    "  area: function() {\n",
    "    return Math.PI * this.radius * this.radius; // radius! think about this \n",
    "  },\n",
    "  grow: function() {\n",
    "    this.radius++; //whoa!!! remember the this discussion? let's look at how we can inject radius here\n",
    "  },\n",
    "  shrink: function() {\n",
    "    this.radius--; //see comment for grow()\n",
    "  }\n",
    "};"
   ]
  },
  {
   "cell_type": "markdown",
   "metadata": {
    "slideshow": {
     "slide_type": "slide"
    }
   },
   "source": [
    "### this next one is called the `mixin` pattern"
   ]
  },
  {
   "cell_type": "code",
   "execution_count": 177,
   "metadata": {
    "slideshow": {
     "slide_type": "slide"
    }
   },
   "outputs": [
    {
     "data": {
      "text/plain": [
       "[Function: CircleWithRadius]"
      ]
     },
     "execution_count": 177,
     "metadata": {},
     "output_type": "execute_result"
    }
   ],
   "source": [
    "// Approach 1: using an extend method\n",
    "function extend(destination, source) {\n",
    "  for (var k in source) {\n",
    "    // if source has a valid property \n",
    "    // add it to the destination\n",
    "    if (source.hasOwnProperty(k)) {\n",
    "      destination[k] = source[k];\n",
    "    }\n",
    "  }\n",
    "  return destination; \n",
    "}\n",
    "\n",
    "// Circle with radius\n",
    "var CircleWithRadius = function(radius){\n",
    "    this.radius = radius;\n",
    "}\n",
    "\n",
    "// to reuse methods from the Circle class:\n",
    "extend(CircleWithRadius, Circle);"
   ]
  },
  {
   "cell_type": "code",
   "execution_count": 178,
   "metadata": {
    "slideshow": {
     "slide_type": "slide"
    }
   },
   "outputs": [
    {
     "data": {
      "text/plain": [
       "3.141592653589793"
      ]
     },
     "execution_count": 178,
     "metadata": {},
     "output_type": "execute_result"
    }
   ],
   "source": [
    "// This i sometimes called the 'functoinal programming approach' ('kay don't be scared, we'll tackle this in the next session)\n",
    "var Circleish = function() {\n",
    "  this.area = function() {\n",
    "    return Math.PI * this.radius * this.radius;\n",
    "  };\n",
    "  this.grow = function() {\n",
    "    this.radius++;\n",
    "  };\n",
    "  this.shrink = function() {\n",
    "    this.radius--;\n",
    "  };\n",
    "  return this;\n",
    "};\n",
    " \n",
    "var Circle = function(radius) {\n",
    "    this.radius = radius;\n",
    "};\n",
    "\n",
    "Circleish.call(Circle.prototype); //this means that 'this' inside circleish class will point to Circle.\n",
    "\n",
    "var c = new Circle(1);\n",
    "c.area();"
   ]
  },
  {
   "cell_type": "markdown",
   "metadata": {
    "slideshow": {
     "slide_type": "slide"
    }
   },
   "source": [
    "## Modules in Javascript\n",
    "It should be now trivial to see that modules are mixed in together at runtime.\n",
    "\n",
    "Tools like requireJS, webpack etc. then help one load the modules when needed and also help in compiling JS from multiple files into one (which can be minified and sent to the front end application)\n",
    "\n",
    "There are two very easy ways of encapsulating functionality into a module:\n",
    "1. **Common.js** - _server first approach_, all modules are loaded in a synchronized manner, in order of decreasing dependency. Used in Node.js modules (though node modules have some more features as compared to common js specification)\n",
    "2. **Asynchronous Module Definition** - _Browser first approach_, modules are loaded asynchronously, in a non-blocking manner. Used in Require JS\n",
    "\n",
    "A third approach, **Universal Module Definition** takes an inclusive approach (though it's slightly more involved) enabling **_isomorphic_** javascript - modules that can work, both on browser as well as server"
   ]
  },
  {
   "cell_type": "markdown",
   "metadata": {
    "slideshow": {
     "slide_type": "slide"
    }
   },
   "source": [
    "# THIS!"
   ]
  },
  {
   "cell_type": "markdown",
   "metadata": {
    "slideshow": {
     "slide_type": "slide"
    }
   },
   "source": [
    "...*don't you like it when it's close to the finish line?*"
   ]
  },
  {
   "cell_type": "markdown",
   "metadata": {
    "slideshow": {
     "slide_type": "slide"
    }
   },
   "source": [
    "## Understanding the 'this' variable\n",
    "\n",
    "**this** follows _Dynamic Scoping_\n",
    "\n",
    "### Ways to modify 'this'\n",
    "\n",
    "#### 1. Call a method on an object "
   ]
  },
  {
   "cell_type": "code",
   "execution_count": 165,
   "metadata": {
    "collapsed": true,
    "slideshow": {
     "slide_type": "slide"
    }
   },
   "outputs": [],
   "source": [
    "// here this will be the object\n",
    "// object.method() "
   ]
  },
  {
   "cell_type": "code",
   "execution_count": 166,
   "metadata": {
    "scrolled": true,
    "slideshow": {
     "slide_type": "slide"
    }
   },
   "outputs": [
    {
     "name": "stdout",
     "output_type": "stream",
     "text": [
      "greetingPrinter.prototype.greet:: this.name =   Shaurya Agarwal\n",
      "greetingPrinter.prototype.greet:: name =  Bat Man  <--note that this is different from *this.name*\n",
      "greetingPrinter.prototype.greet:: this =  {}\n",
      "greetingPrinter.prototype.greet:: this.name =   Banana Man\n",
      "greetingPrinter.prototype.greet:: name =  Bat Man  <--note that this is different from *this.name*\n",
      "greetingPrinter.prototype.greet:: this =  {\"name\":\"Banana Man\"}\n"
     ]
    }
   ],
   "source": [
    "var greetingPrinter = function(){};\n",
    "\n",
    "greetingPrinter.prototype.name = \"Shaurya Agarwal\";\n",
    "greetingPrinter.prototype.greet = function(){\n",
    "    console.log(\"greetingPrinter.prototype.greet:: this.name =  \",this.name);\n",
    "    console.log(\"greetingPrinter.prototype.greet:: name = \",name, \" <--note that this is different from *this.name*\");\n",
    "    console.log(\"greetingPrinter.prototype.greet:: this = \",JSON.stringify(this));\n",
    "};\n",
    "\n",
    "var name = \"Bat Man\";\n",
    "\n",
    "var myGreeting0 = new greetingPrinter();\n",
    "myGreeting0.greet();\n",
    "\n",
    "var myGreeting1 = new greetingPrinter();\n",
    "myGreeting1.name = \"Banana Man\";\n",
    "myGreeting1.greet();\n",
    "\n"
   ]
  },
  {
   "cell_type": "markdown",
   "metadata": {
    "slideshow": {
     "slide_type": "slide"
    }
   },
   "source": [
    "#### 2. Pass this with the delegate"
   ]
  },
  {
   "cell_type": "code",
   "execution_count": 167,
   "metadata": {
    "slideshow": {
     "slide_type": "slide"
    }
   },
   "outputs": [
    {
     "name": "stdout",
     "output_type": "stream",
     "text": [
      "undefined ' ' undefined\n",
      "Hello   Batman\n",
      "Hello   Bananaman\n",
      "s =  20000\n",
      "out of for loop:  200,00\n"
     ]
    }
   ],
   "source": [
    "// here this in method will refer to myObj\n",
    "// method.call(myObj, arg1, arg2, ...) \n",
    "// ethod.apply(myObj,argArray)\n",
    "//method.bind(myObj,arg1, arg2, ...)\n",
    "\n",
    "var myGreeting3 = {_name:\"Batman\"};\n",
    "var myGreeting4 = {_name: \"Bananaman\"};\n",
    "\n",
    "function greetName(grtng){\n",
    "    console.log(grtng,\" \", this._name);\n",
    "};\n",
    "//\n",
    "// when we call greetName function, both grtng and this._name are not defined (or 'undefined' in JS parlance)\n",
    "greetName();\n",
    "//\n",
    "// passing myGreeting3 as the object that the 'this' variable will point to\n",
    "greetName.call(myGreeting3, \"Hello\");\n",
    "//\n",
    "// passing myGreeting3 as the object that the 'this' variable will point to\n",
    "greetName.call(myGreeting4, \"Hello\");"
   ]
  },
  {
   "cell_type": "code",
   "execution_count": 38,
   "metadata": {
    "slideshow": {
     "slide_type": "slide"
    }
   },
   "outputs": [
    {
     "name": "stdout",
     "output_type": "stream",
     "text": [
      "s =  20000\n",
      "out of for loop:  200,00\n"
     ]
    }
   ],
   "source": [
    "//\n",
    "var emp = [{name:\"Batman\", salary:1000},{name:\"Bananaman\", salary: 20000}];\n",
    "//\n",
    "function formatCurrency(){\n",
    "    var s = this.salary.toString();\n",
    "    console.log(\"s = \",s);\n",
    "    var outputStr = \"\";\n",
    "    for (var i=0; i<s.length;i++){\n",
    "        outputStr += s[i];\n",
    "        if (i%3 == 2){\n",
    "            outputStr += \",\";\n",
    "        }\n",
    "    }\n",
    "    return outputStr;\n",
    "};\n",
    "//\n",
    "for(var j=0;j<emp.length;j++){\n",
    "    //console.log(formatCurrency.call(emp[j]));\n",
    "    var myMethod = formatCurrency.bind(emp[j]);\n",
    "    //console.log(\"in for loop: \", myMethod());\n",
    "}\n",
    "//\n",
    "console.log(\"out of for loop: \", myMethod());"
   ]
  },
  {
   "cell_type": "markdown",
   "metadata": {
    "slideshow": {
     "slide_type": "slide"
    }
   },
   "source": [
    "#### 3. Use new  (classes, prototypes and inheritance)"
   ]
  },
  {
   "cell_type": "code",
   "execution_count": 168,
   "metadata": {
    "collapsed": true,
    "slideshow": {
     "slide_type": "slide"
    }
   },
   "outputs": [],
   "source": [
    "// var o = {name: 'Mini'};\n",
    "// var a = new ClassName(o) //this is set as per the param"
   ]
  },
  {
   "cell_type": "markdown",
   "metadata": {
    "slideshow": {
     "slide_type": "slide"
    }
   },
   "source": [
    "#### 4. Use bind() (revisit after Higher Order Functions and Currying)\n",
    "bind is like call() and apply() but does not execute the function, instead it returns a new function whose this is bound to the context specified by bind()"
   ]
  },
  {
   "cell_type": "code",
   "execution_count": 169,
   "metadata": {
    "slideshow": {
     "slide_type": "slide"
    }
   },
   "outputs": [
    {
     "name": "stdout",
     "output_type": "stream",
     "text": [
      "Bat Man\n",
      "shaurya\n"
     ]
    }
   ],
   "source": [
    "var getName = function(){console.log(this.name);}\n",
    "\n",
    "// getName is bound to the object passed {name:'shaurya'}, \n",
    "// so this within shauryaName function will refer to {name: 'shaurya'}\n",
    "var shauryaName = getName.bind({name:'shaurya'}) \n",
    "\n",
    "getName();\n",
    "shauryaName();"
   ]
  },
  {
   "cell_type": "markdown",
   "metadata": {
    "slideshow": {
     "slide_type": "slide"
    }
   },
   "source": [
    "### Pro tip: Issues with eventHandlers"
   ]
  },
  {
   "cell_type": "code",
   "execution_count": 170,
   "metadata": {
    "slideshow": {
     "slide_type": "slide"
    }
   },
   "outputs": [
    {
     "data": {
      "text/plain": [
       "[Function]"
      ]
     },
     "execution_count": 170,
     "metadata": {},
     "output_type": "execute_result"
    }
   ],
   "source": [
    "var div = {}; //document.createElementByType('div');\n",
    "//\n",
    "div.onclick = function(){\n",
    "    setTimeout(function(){\n",
    "        console.log(\"haha!\", this)\n",
    "    },1000)\n",
    "} //this for setTimeout is 'window' and not 'div' because setTimeout is a function defined in the global scope\n",
    "\n",
    "//to fix this we'll use hoisting and lexical scope\n",
    "div.onclick = function(){\n",
    "    //this here refers to the div, _this will be available to the setTimeout's inner function as a part of its closure\n",
    "    var _this = this;\n",
    "    //we capture this at div level and let inner scope use it\n",
    "    setTimeout(function(){console.log(\"haha!\", _this)},1000); \n",
    "} "
   ]
  },
  {
   "cell_type": "markdown",
   "metadata": {},
   "source": [
    "### References:\n",
    "* https://github.com/getify/You-Dont-Know-JS/blob/master/README.md \n",
    "* https://github.com/stoeffel/awesome-fp-js \n",
    "* https://github.com/shauryashaurya/JavaScript-An-Introduction \n",
    "* https://github.com/sorrycc/awesome-javascript \n",
    "* https://github.com/micromata/awesome-javascript-learning\n"
   ]
  },
  {
   "cell_type": "markdown",
   "metadata": {
    "slideshow": {
     "slide_type": "slide"
    }
   },
   "source": [
    "## Day 1 DONE!!!"
   ]
  },
  {
   "cell_type": "markdown",
   "metadata": {
    "slideshow": {
     "slide_type": "skip"
    }
   },
   "source": [
    "## A quick tour of functional programming in JavaScript\n",
    "\n",
    "### 1. Pure Functions and Referential Transparency"
   ]
  },
  {
   "cell_type": "code",
   "execution_count": 171,
   "metadata": {
    "collapsed": true,
    "slideshow": {
     "slide_type": "skip"
    }
   },
   "outputs": [],
   "source": [
    "function sum (a,b){return a+b;} //pure?\n",
    "\n",
    "function sumA (a, b){return previousSum+a+b;} //pure?"
   ]
  },
  {
   "cell_type": "markdown",
   "metadata": {
    "slideshow": {
     "slide_type": "skip"
    }
   },
   "source": [
    "### 2. Higher Order Functions"
   ]
  },
  {
   "cell_type": "markdown",
   "metadata": {
    "collapsed": true,
    "slideshow": {
     "slide_type": "skip"
    }
   },
   "source": [
    "Functions that accpet other functions as argument \n",
    "- examples include the sort function for arrays"
   ]
  },
  {
   "cell_type": "markdown",
   "metadata": {
    "slideshow": {
     "slide_type": "skip"
    }
   },
   "source": [
    "### 3. Currying"
   ]
  },
  {
   "cell_type": "code",
   "execution_count": 172,
   "metadata": {
    "slideshow": {
     "slide_type": "skip"
    }
   },
   "outputs": [
    {
     "name": "stdout",
     "output_type": "stream",
     "text": [
      "outer scope: m =  10\n",
      "outer scope: m =  21\n",
      "---single argument---\n",
      "m =  10 , n =  5\n",
      "false\n",
      "m =  10 , n =  10\n",
      "false\n",
      "m =  10 , n =  15\n",
      "true\n",
      "m =  21 , n =  19\n",
      "false\n",
      "m =  21 , n =  21\n",
      "false\n",
      "m =  21 , n =  25\n",
      "true\n",
      "---argument chains---\n",
      "outer scope: m =  10\n",
      "m =  10 , n =  5\n",
      "false\n",
      "outer scope: m =  10\n",
      "m =  10 , n =  10\n",
      "false\n",
      "outer scope: m =  10\n",
      "m =  10 , n =  15\n",
      "true\n",
      "outer scope: m =  21\n",
      "m =  21 , n =  19\n",
      "false\n",
      "outer scope: m =  21\n",
      "m =  21 , n =  21\n",
      "false\n",
      "outer scope: m =  21\n",
      "m =  21 , n =  25\n",
      "true\n",
      "---passing both arguments at start doesn't work---\n",
      "outer scope: m =  10\n",
      "[Function]\n",
      "outer scope: m =  10\n",
      "[Function]\n",
      "outer scope: m =  10\n",
      "[Function]\n",
      "outer scope: m =  21\n",
      "[Function]\n",
      "outer scope: m =  21\n",
      "[Function]\n",
      "outer scope: m =  21\n",
      "[Function]\n",
      "---proof that isGreater returns a function---\n",
      "outer scope: m =  10\n",
      "m =  10 , n =  undefined\n",
      "false\n",
      "outer scope: m =  10\n",
      "m =  10 , n =  undefined\n",
      "false\n",
      "outer scope: m =  10\n",
      "m =  10 , n =  undefined\n",
      "false\n",
      "outer scope: m =  21\n",
      "m =  21 , n =  undefined\n",
      "false\n",
      "outer scope: m =  21\n",
      "m =  21 , n =  undefined\n",
      "false\n",
      "outer scope: m =  21\n",
      "m =  21 , n =  undefined\n",
      "false\n",
      "---but it does work for isGreater2 where passing n1 has no effect---\n",
      "outer scope: m =  10\n",
      "m =  10 , n =  5 , n1 =  undefined\n",
      "false\n",
      "outer scope: m =  10\n",
      "m =  10 , n =  10 , n1 =  11\n",
      "true\n",
      "outer scope: m =  10\n",
      "m =  10 , n =  15 , n1 =  9\n",
      "false\n",
      "outer scope: m =  21\n",
      "m =  21 , n =  19 , n1 =  undefined\n",
      "false\n",
      "outer scope: m =  21\n",
      "m =  21 , n =  21 , n1 =  30\n",
      "true\n",
      "outer scope: m =  21\n",
      "m =  21 , n =  25 , n1 =  undefined\n",
      "true\n"
     ]
    }
   ],
   "source": [
    "// keep returning a function till you get all the expected arguments\n",
    "\n",
    "// basic approach\n",
    "function isGreater(m,n){ //here the second argument is only added for readibility\n",
    "    console.log('outer scope: m = ',m);\n",
    "    return function(n){\n",
    "        console.log('m = ',m,', n = ',n);\n",
    "        return m<n;\n",
    "    };\n",
    "}\n",
    "\n",
    "// a way to avoid failure in case arguments are unavailable\n",
    "function isGreater2(m,n){ //here the second argument is only added for readibility\n",
    "    console.log('outer scope: m = ',m);\n",
    "    return function(n1){\n",
    "        console.log('m = ',m,', n = ',n, ', n1 = ',n1);\n",
    "        n1 = (n1)? n1:n;\n",
    "        return m<n1;\n",
    "    };\n",
    "}\n",
    "\n",
    "var isGreaterThan10 = isGreater(10);\n",
    "var isGreaterThan21 = isGreater(21);\n",
    "//\n",
    "console.log(\"---single argument---\");\n",
    "console.log(isGreaterThan10(5));\n",
    "console.log(isGreaterThan10(10));\n",
    "console.log(isGreaterThan10(15));\n",
    "console.log(isGreaterThan21(19));\n",
    "console.log(isGreaterThan21(21));\n",
    "console.log(isGreaterThan21(25));\n",
    "//\n",
    "console.log(\"---argument chains---\");\n",
    "console.log(isGreater(10)(5));\n",
    "console.log(isGreater(10)(10));\n",
    "console.log(isGreater(10)(15));\n",
    "console.log(isGreater(21)(19));\n",
    "console.log(isGreater(21)(21));\n",
    "console.log(isGreater(21)(25));\n",
    "//\n",
    "console.log(\"---passing both arguments at start doesn't work---\");\n",
    "console.log(isGreater(10,5));\n",
    "console.log(isGreater(10,10));\n",
    "console.log(isGreater(10,15));\n",
    "console.log(isGreater(21,19));\n",
    "console.log(isGreater(21,21));\n",
    "console.log(isGreater(21,25));\n",
    "//\n",
    "console.log(\"---proof that isGreater returns a function---\");\n",
    "console.log(isGreater(10,5)());\n",
    "console.log(isGreater(10,10)());\n",
    "console.log(isGreater(10,15)());\n",
    "console.log(isGreater(21,19)());\n",
    "console.log(isGreater(21,21)());\n",
    "console.log(isGreater(21,25)());\n",
    "//\n",
    "console.log(\"---but it does work for isGreater2 where passing n1 has no effect---\");\n",
    "console.log(isGreater2(10,5)());\n",
    "console.log(isGreater2(10,10)(11));\n",
    "console.log(isGreater2(10,15)(9));\n",
    "console.log(isGreater2(21,19)());\n",
    "console.log(isGreater2(21,21)(30));\n",
    "console.log(isGreater2(21,25)());"
   ]
  },
  {
   "cell_type": "markdown",
   "metadata": {
    "slideshow": {
     "slide_type": "skip"
    }
   },
   "source": [
    "### 4. Anonymous functions"
   ]
  },
  {
   "cell_type": "code",
   "execution_count": 173,
   "metadata": {
    "slideshow": {
     "slide_type": "skip"
    }
   },
   "outputs": [
    {
     "name": "stdout",
     "output_type": "stream",
     "text": [
      "4\n"
     ]
    }
   ],
   "source": [
    "// functions with no names\n",
    "\n",
    "// fat arrow notation:\n",
    "var myFunc = (x) => x+2;\n",
    "console.log(myFunc(2));"
   ]
  },
  {
   "cell_type": "markdown",
   "metadata": {
    "slideshow": {
     "slide_type": "skip"
    }
   },
   "source": [
    "### 5. Filters, Map and Reduce"
   ]
  },
  {
   "cell_type": "code",
   "execution_count": 174,
   "metadata": {
    "slideshow": {
     "slide_type": "skip"
    }
   },
   "outputs": [
    {
     "name": "stdout",
     "output_type": "stream",
     "text": [
      "[1,4,9,16,25,36,49,64,81,81,64,49,36,25,16,9,4,1]\n",
      "[1,4,9,16,25,36,49,64,81,81,64,49,36,25,16,9,4,1]\n",
      "90\n",
      "90\n",
      "[2,4,6,8,8,6,4,2]\n",
      "[2,4,6,8,8,6,4,2]\n"
     ]
    }
   ],
   "source": [
    "a = [1,2,3,4,5,6,7,8,9,9,8,7,6,5,4,3,2,1];\n",
    "// map\n",
    "// square the numbers in the array\n",
    "console.log(JSON.stringify(a.map((x)=>x*x)));\n",
    "// support for multiline-fat-arrows\n",
    "console.log(JSON.stringify(\n",
    "                            a.map(\n",
    "                                (x)=>x*x)\n",
    "));\n",
    "// reduce\n",
    "// sum the array\n",
    "console.log(JSON.stringify(a.reduce((accu,cV,cI,arr)=>accu+=cV)));\n",
    "console.log(JSON.stringify(\n",
    "                            a.reduce(\n",
    "                                (accu,cV,cI,arr)=>accu+=cV)\n",
    "));\n",
    "\n",
    "// filter\n",
    "// extract only even numbers\n",
    "console.log(JSON.stringify(a.filter((x)=>(x%2===0))));\n",
    "console.log(JSON.stringify(\n",
    "                            a.filter(\n",
    "                                (x)=>(x%2===0))\n",
    "));"
   ]
  },
  {
   "cell_type": "markdown",
   "metadata": {
    "slideshow": {
     "slide_type": "skip"
    }
   },
   "source": [
    "### 6. Self executing functions including self executing anonymous functions"
   ]
  },
  {
   "cell_type": "code",
   "execution_count": 175,
   "metadata": {
    "slideshow": {
     "slide_type": "skip"
    }
   },
   "outputs": [
    {
     "name": "stdout",
     "output_type": "stream",
     "text": [
      "1\n"
     ]
    }
   ],
   "source": [
    "var a = function (){console.log(1)}();"
   ]
  },
  {
   "cell_type": "markdown",
   "metadata": {
    "slideshow": {
     "slide_type": "skip"
    }
   },
   "source": [
    "## Mixins\n",
    "\n",
    "### 1. Quick refresher on prototypes and inheritance"
   ]
  },
  {
   "cell_type": "markdown",
   "metadata": {
    "slideshow": {
     "slide_type": "skip"
    }
   },
   "source": [
    "# ES5/ES6 Object orientation features in JS"
   ]
  },
  {
   "cell_type": "code",
   "execution_count": 179,
   "metadata": {
    "slideshow": {
     "slide_type": "skip"
    }
   },
   "outputs": [
    {
     "ename": "TypeError",
     "evalue": "Identifier 'My_Const_Obj' has already been declared",
     "output_type": "error",
     "traceback": [
      "evalmachine.<anonymous>:1",
      "// Danger!",
      "^",
      "",
      "TypeError: Identifier 'My_Const_Obj' has already been declared",
      "    at evalmachine.<anonymous>:1:1",
      "    at ContextifyScript.Script.runInThisContext (vm.js:25:33)",
      "    at Object.runInThisContext (vm.js:97:38)",
      "    at run ([eval]:775:15)",
      "    at onRunRequest ([eval]:620:18)",
      "    at onMessage ([eval]:588:13)",
      "    at emitTwo (events.js:106:13)",
      "    at process.emit (events.js:191:7)",
      "    at process.nextTick (internal/child_process.js:787:12)",
      "    at _combinedTickCallback (internal/process/next_tick.js:73:7)"
     ]
    }
   ],
   "source": [
    "// Danger!\n",
    "\n",
    "// let\n",
    "// restricts to block scope instead of lexical\n",
    "\n",
    "function sayHi(name){\n",
    "    console.log (\"Hi!\");\n",
    "    if (name === undefined){\n",
    "        let __name = \"Shaurya\";\n",
    "        console.log (\"__name = \", __name);\n",
    "    }\n",
    "    console.log (\"name = \", name);\n",
    "    //console.log (\"name from outside the if block - __name = \", __name);\n",
    "}\n",
    "\n",
    "sayHi();\n",
    "sayHi(\"Bro\");\n",
    "\n",
    "// const\n",
    "// cannot modify directly, but for objects and arrays can modify contents\n",
    "\n",
    "//const MY_CONST_NUM = 7;\n",
    "console.log(\"MY_CONST_NUM  = \", MY_CONST_NUM);\n",
    "//ERROR\n",
    "//MY_CONST_NUM = MY_CONST_NUM+1;\n",
    "\n",
    "const My_Const_Obj = {name:\"shaurya\"};\n",
    "console.log(JSON.stringify(My_Const_Obj));\n",
    "\n",
    "\n",
    "// Object.create()\n",
    "// create an object based on a prototype\n",
    "\n",
    "// Object.assign()\n",
    "// assign properties to an object - specifically:\n",
    "// copy all enumerable properties from source objects into one target object and return the object\n"
   ]
  },
  {
   "cell_type": "markdown",
   "metadata": {
    "collapsed": true,
    "slideshow": {
     "slide_type": "skip"
    }
   },
   "source": [
    "# SOLID in Javascript\n",
    "\n",
    "Primary Reference: https://medium.com/@cramirez92/s-o-l-i-d-the-first-5-priciples-of-object-oriented-design-with-javascript-790f6ac9b9fa"
   ]
  },
  {
   "cell_type": "markdown",
   "metadata": {
    "slideshow": {
     "slide_type": "skip"
    }
   },
   "source": [
    "## Single responsibility principle\n",
    "\n",
    "A class should have one and only one reason to change, meaning that a class should only have one job."
   ]
  },
  {
   "cell_type": "markdown",
   "metadata": {
    "slideshow": {
     "slide_type": "skip"
    }
   },
   "source": [
    "## Open-closed Principle\n",
    "Objects or entities should be **open for extension**, but **closed for modification**.\n",
    "\n",
    "**Open for extension** means that we should be able to add new features or components to the application without breaking existing code.\n",
    "**Closed for modification** means that we should not introduce breaking changes to existing functionality, because that would force you to refactor a lot of existing code"
   ]
  },
  {
   "cell_type": "markdown",
   "metadata": {
    "slideshow": {
     "slide_type": "skip"
    }
   },
   "source": [
    "## Liskov substitution principle\n",
    "\n",
    "Let q(x) be a property provable about objects of x of type T. \n",
    "\n",
    "Then q(y) should be provable for objects y of type S where S is a subtype of T."
   ]
  },
  {
   "cell_type": "markdown",
   "metadata": {
    "slideshow": {
     "slide_type": "skip"
    }
   },
   "source": [
    "## Interface segregation principle\n",
    "\n",
    "A client should never be forced to implement an interface that it doesn’t use or clients shouldn’t be forced to depend on methods they do not use."
   ]
  },
  {
   "cell_type": "markdown",
   "metadata": {
    "slideshow": {
     "slide_type": "skip"
    }
   },
   "source": [
    "## Dependency inversion principle\n",
    "\n",
    "Entities must depend on abstractions not on concretions. It states that the high level module must not depend on the low level module, but they should depend on abstractions."
   ]
  },
  {
   "cell_type": "markdown",
   "metadata": {
    "slideshow": {
     "slide_type": "skip"
    }
   },
   "source": []
  },
  {
   "cell_type": "markdown",
   "metadata": {
    "slideshow": {
     "slide_type": "skip"
    }
   },
   "source": []
  }
 ],
 "metadata": {
  "anaconda-cloud": {},
  "celltoolbar": "Slideshow",
  "kernelspec": {
   "display_name": "Javascript (Node.js)",
   "language": "javascript",
   "name": "javascript"
  },
  "language_info": {
   "file_extension": ".js",
   "mimetype": "application/javascript",
   "name": "javascript",
   "version": "6.11.3"
  }
 },
 "nbformat": 4,
 "nbformat_minor": 1
}
